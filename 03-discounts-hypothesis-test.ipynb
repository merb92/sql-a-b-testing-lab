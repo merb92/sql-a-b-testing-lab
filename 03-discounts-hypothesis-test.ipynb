{
 "cells": [
  {
   "cell_type": "markdown",
   "metadata": {},
   "source": [
    "# Discounts Hypothesis Tests\n",
    "Do discounts have a statistically significant effect on the number of products customers order? If so, at what level(s) of discount?\n",
    "* On an order as a whole when at least one product has a discount\n",
    "* For particular products\n",
    "* ~~For particular products purchased by particular customers with and without a discount~~ (Not enough data)"
   ]
  },
  {
   "cell_type": "markdown",
   "metadata": {},
   "source": [
    "# Imports and Constants"
   ]
  },
  {
   "cell_type": "code",
   "execution_count": 36,
   "metadata": {
    "ExecuteTime": {
     "end_time": "2021-01-13T00:45:46.272198Z",
     "start_time": "2021-01-13T00:45:39.028877Z"
    }
   },
   "outputs": [],
   "source": [
    "import sqlite3\n",
    "import pandas as pd\n",
    "import matplotlib.pyplot as plt\n",
    "%matplotlib inline\n",
    "import numpy as np\n",
    "import scipy.stats as stats"
   ]
  },
  {
   "cell_type": "code",
   "execution_count": 2,
   "metadata": {
    "ExecuteTime": {
     "end_time": "2021-01-12T17:50:11.416948Z",
     "start_time": "2021-01-12T17:50:11.413615Z"
    }
   },
   "outputs": [],
   "source": [
    "DB_NAME = 'Northwind_small.sqlite'\n",
    "RANDOM_STATE = 42"
   ]
  },
  {
   "cell_type": "markdown",
   "metadata": {},
   "source": [
    "# Connect to Database"
   ]
  },
  {
   "cell_type": "code",
   "execution_count": 3,
   "metadata": {
    "ExecuteTime": {
     "end_time": "2021-01-12T17:50:36.798407Z",
     "start_time": "2021-01-12T17:50:36.793498Z"
    }
   },
   "outputs": [],
   "source": [
    "conn = sqlite3.connect(DB_NAME)\n",
    "cur = conn.cursor()"
   ]
  },
  {
   "cell_type": "markdown",
   "metadata": {},
   "source": [
    "# Do discounts have a significant effect on the number of products customers order when considering orders that have at least one discount on a product?"
   ]
  },
  {
   "cell_type": "markdown",
   "metadata": {},
   "source": [
    "## Hypothesis\n",
    "* H0 = A discount **does not** have a significant effect on the number of products in an order\n",
    "* HA = A discount **does** have a significant effect on the number of products in an order"
   ]
  },
  {
   "cell_type": "markdown",
   "metadata": {},
   "source": [
    "## Test Type"
   ]
  },
  {
   "cell_type": "markdown",
   "metadata": {},
   "source": [
    "Conduct a Two Tailed, One Sample T-Test on the mean of the sample (with discounts) vs. the population mean"
   ]
  },
  {
   "cell_type": "markdown",
   "metadata": {},
   "source": [
    "## Set Significance Level "
   ]
  },
  {
   "cell_type": "code",
   "execution_count": 62,
   "metadata": {
    "ExecuteTime": {
     "end_time": "2021-01-13T01:25:17.978045Z",
     "start_time": "2021-01-13T01:25:17.974896Z"
    }
   },
   "outputs": [],
   "source": [
    "alpha = 0.05"
   ]
  },
  {
   "cell_type": "markdown",
   "metadata": {},
   "source": [
    "## Query database for Order Data"
   ]
  },
  {
   "cell_type": "code",
   "execution_count": 4,
   "metadata": {
    "ExecuteTime": {
     "end_time": "2021-01-12T17:51:33.216024Z",
     "start_time": "2021-01-12T17:51:33.212497Z"
    }
   },
   "outputs": [],
   "source": [
    "q = \"\"\"\n",
    "    SELECT * from OrderDetail;\n",
    "    \"\"\""
   ]
  },
  {
   "cell_type": "code",
   "execution_count": 5,
   "metadata": {
    "ExecuteTime": {
     "end_time": "2021-01-12T17:52:49.694633Z",
     "start_time": "2021-01-12T17:52:49.679375Z"
    }
   },
   "outputs": [],
   "source": [
    "df = pd.DataFrame(cur.execute(q).fetchall(),\n",
    "                  columns=[description[0] for description in cur.description])"
   ]
  },
  {
   "cell_type": "code",
   "execution_count": 6,
   "metadata": {
    "ExecuteTime": {
     "end_time": "2021-01-12T17:52:52.352313Z",
     "start_time": "2021-01-12T17:52:52.333977Z"
    }
   },
   "outputs": [
    {
     "data": {
      "text/html": [
       "<div>\n",
       "<style scoped>\n",
       "    .dataframe tbody tr th:only-of-type {\n",
       "        vertical-align: middle;\n",
       "    }\n",
       "\n",
       "    .dataframe tbody tr th {\n",
       "        vertical-align: top;\n",
       "    }\n",
       "\n",
       "    .dataframe thead th {\n",
       "        text-align: right;\n",
       "    }\n",
       "</style>\n",
       "<table border=\"1\" class=\"dataframe\">\n",
       "  <thead>\n",
       "    <tr style=\"text-align: right;\">\n",
       "      <th></th>\n",
       "      <th>Id</th>\n",
       "      <th>OrderId</th>\n",
       "      <th>ProductId</th>\n",
       "      <th>UnitPrice</th>\n",
       "      <th>Quantity</th>\n",
       "      <th>Discount</th>\n",
       "    </tr>\n",
       "  </thead>\n",
       "  <tbody>\n",
       "    <tr>\n",
       "      <th>0</th>\n",
       "      <td>10248/11</td>\n",
       "      <td>10248</td>\n",
       "      <td>11</td>\n",
       "      <td>14.0</td>\n",
       "      <td>12</td>\n",
       "      <td>0.0</td>\n",
       "    </tr>\n",
       "    <tr>\n",
       "      <th>1</th>\n",
       "      <td>10248/42</td>\n",
       "      <td>10248</td>\n",
       "      <td>42</td>\n",
       "      <td>9.8</td>\n",
       "      <td>10</td>\n",
       "      <td>0.0</td>\n",
       "    </tr>\n",
       "    <tr>\n",
       "      <th>2</th>\n",
       "      <td>10248/72</td>\n",
       "      <td>10248</td>\n",
       "      <td>72</td>\n",
       "      <td>34.8</td>\n",
       "      <td>5</td>\n",
       "      <td>0.0</td>\n",
       "    </tr>\n",
       "    <tr>\n",
       "      <th>3</th>\n",
       "      <td>10249/14</td>\n",
       "      <td>10249</td>\n",
       "      <td>14</td>\n",
       "      <td>18.6</td>\n",
       "      <td>9</td>\n",
       "      <td>0.0</td>\n",
       "    </tr>\n",
       "    <tr>\n",
       "      <th>4</th>\n",
       "      <td>10249/51</td>\n",
       "      <td>10249</td>\n",
       "      <td>51</td>\n",
       "      <td>42.4</td>\n",
       "      <td>40</td>\n",
       "      <td>0.0</td>\n",
       "    </tr>\n",
       "  </tbody>\n",
       "</table>\n",
       "</div>"
      ],
      "text/plain": [
       "         Id  OrderId  ProductId  UnitPrice  Quantity  Discount\n",
       "0  10248/11    10248         11       14.0        12       0.0\n",
       "1  10248/42    10248         42        9.8        10       0.0\n",
       "2  10248/72    10248         72       34.8         5       0.0\n",
       "3  10249/14    10249         14       18.6         9       0.0\n",
       "4  10249/51    10249         51       42.4        40       0.0"
      ]
     },
     "execution_count": 6,
     "metadata": {},
     "output_type": "execute_result"
    }
   ],
   "source": [
    "df.head()"
   ]
  },
  {
   "cell_type": "markdown",
   "metadata": {},
   "source": [
    "## Group Data by OrderId\n",
    "So that the number of items per order can be calculated\n",
    "* Quantity will indicate the total number of items in an order\n",
    "* Discount will be the sum of the discounts on an order\n",
    "    * 0.0 will indicate no discounts on the order\n",
    "    * \\> 0.0 will indicate at least 1 item had a discount on the order"
   ]
  },
  {
   "cell_type": "code",
   "execution_count": 29,
   "metadata": {
    "ExecuteTime": {
     "end_time": "2021-01-12T18:14:15.509946Z",
     "start_time": "2021-01-12T18:14:15.485010Z"
    }
   },
   "outputs": [],
   "source": [
    "df_groupby_order_id = df[['OrderId', 'Quantity', 'Discount']].groupby('OrderId').agg(total_qty = ('Quantity', 'sum'),\n",
    "                                                                                     max_discount = ('Discount', 'max'))"
   ]
  },
  {
   "cell_type": "code",
   "execution_count": 30,
   "metadata": {
    "ExecuteTime": {
     "end_time": "2021-01-12T18:14:16.270751Z",
     "start_time": "2021-01-12T18:14:16.260832Z"
    },
    "scrolled": true
   },
   "outputs": [
    {
     "data": {
      "text/html": [
       "<div>\n",
       "<style scoped>\n",
       "    .dataframe tbody tr th:only-of-type {\n",
       "        vertical-align: middle;\n",
       "    }\n",
       "\n",
       "    .dataframe tbody tr th {\n",
       "        vertical-align: top;\n",
       "    }\n",
       "\n",
       "    .dataframe thead th {\n",
       "        text-align: right;\n",
       "    }\n",
       "</style>\n",
       "<table border=\"1\" class=\"dataframe\">\n",
       "  <thead>\n",
       "    <tr style=\"text-align: right;\">\n",
       "      <th></th>\n",
       "      <th>total_qty</th>\n",
       "      <th>max_discount</th>\n",
       "    </tr>\n",
       "    <tr>\n",
       "      <th>OrderId</th>\n",
       "      <th></th>\n",
       "      <th></th>\n",
       "    </tr>\n",
       "  </thead>\n",
       "  <tbody>\n",
       "    <tr>\n",
       "      <th>10248</th>\n",
       "      <td>27</td>\n",
       "      <td>0.00</td>\n",
       "    </tr>\n",
       "    <tr>\n",
       "      <th>10249</th>\n",
       "      <td>49</td>\n",
       "      <td>0.00</td>\n",
       "    </tr>\n",
       "    <tr>\n",
       "      <th>10250</th>\n",
       "      <td>60</td>\n",
       "      <td>0.15</td>\n",
       "    </tr>\n",
       "    <tr>\n",
       "      <th>10251</th>\n",
       "      <td>41</td>\n",
       "      <td>0.05</td>\n",
       "    </tr>\n",
       "    <tr>\n",
       "      <th>10252</th>\n",
       "      <td>105</td>\n",
       "      <td>0.05</td>\n",
       "    </tr>\n",
       "  </tbody>\n",
       "</table>\n",
       "</div>"
      ],
      "text/plain": [
       "         total_qty  max_discount\n",
       "OrderId                         \n",
       "10248           27          0.00\n",
       "10249           49          0.00\n",
       "10250           60          0.15\n",
       "10251           41          0.05\n",
       "10252          105          0.05"
      ]
     },
     "execution_count": 30,
     "metadata": {},
     "output_type": "execute_result"
    }
   ],
   "source": [
    "df_groupby_order_id.head()"
   ]
  },
  {
   "cell_type": "code",
   "execution_count": 31,
   "metadata": {
    "ExecuteTime": {
     "end_time": "2021-01-12T18:14:20.356409Z",
     "start_time": "2021-01-12T18:14:20.333337Z"
    }
   },
   "outputs": [
    {
     "data": {
      "text/html": [
       "<div>\n",
       "<style scoped>\n",
       "    .dataframe tbody tr th:only-of-type {\n",
       "        vertical-align: middle;\n",
       "    }\n",
       "\n",
       "    .dataframe tbody tr th {\n",
       "        vertical-align: top;\n",
       "    }\n",
       "\n",
       "    .dataframe thead th {\n",
       "        text-align: right;\n",
       "    }\n",
       "</style>\n",
       "<table border=\"1\" class=\"dataframe\">\n",
       "  <thead>\n",
       "    <tr style=\"text-align: right;\">\n",
       "      <th></th>\n",
       "      <th>total_qty</th>\n",
       "      <th>max_discount</th>\n",
       "    </tr>\n",
       "  </thead>\n",
       "  <tbody>\n",
       "    <tr>\n",
       "      <th>count</th>\n",
       "      <td>830.000000</td>\n",
       "      <td>830.000000</td>\n",
       "    </tr>\n",
       "    <tr>\n",
       "      <th>mean</th>\n",
       "      <td>61.827711</td>\n",
       "      <td>0.066928</td>\n",
       "    </tr>\n",
       "    <tr>\n",
       "      <th>std</th>\n",
       "      <td>50.748158</td>\n",
       "      <td>0.087484</td>\n",
       "    </tr>\n",
       "    <tr>\n",
       "      <th>min</th>\n",
       "      <td>1.000000</td>\n",
       "      <td>0.000000</td>\n",
       "    </tr>\n",
       "    <tr>\n",
       "      <th>25%</th>\n",
       "      <td>26.000000</td>\n",
       "      <td>0.000000</td>\n",
       "    </tr>\n",
       "    <tr>\n",
       "      <th>50%</th>\n",
       "      <td>50.000000</td>\n",
       "      <td>0.000000</td>\n",
       "    </tr>\n",
       "    <tr>\n",
       "      <th>75%</th>\n",
       "      <td>81.000000</td>\n",
       "      <td>0.150000</td>\n",
       "    </tr>\n",
       "    <tr>\n",
       "      <th>max</th>\n",
       "      <td>346.000000</td>\n",
       "      <td>0.250000</td>\n",
       "    </tr>\n",
       "  </tbody>\n",
       "</table>\n",
       "</div>"
      ],
      "text/plain": [
       "        total_qty  max_discount\n",
       "count  830.000000    830.000000\n",
       "mean    61.827711      0.066928\n",
       "std     50.748158      0.087484\n",
       "min      1.000000      0.000000\n",
       "25%     26.000000      0.000000\n",
       "50%     50.000000      0.000000\n",
       "75%     81.000000      0.150000\n",
       "max    346.000000      0.250000"
      ]
     },
     "execution_count": 31,
     "metadata": {},
     "output_type": "execute_result"
    }
   ],
   "source": [
    "df_groupby_order_id.describe()"
   ]
  },
  {
   "cell_type": "markdown",
   "metadata": {},
   "source": [
    "## Separate orders with a discount"
   ]
  },
  {
   "cell_type": "code",
   "execution_count": 32,
   "metadata": {
    "ExecuteTime": {
     "end_time": "2021-01-12T18:16:11.095126Z",
     "start_time": "2021-01-12T18:16:11.090138Z"
    }
   },
   "outputs": [],
   "source": [
    "orders_with_discount_df = df_groupby_order_id[df_groupby_order_id.max_discount > 0.0]"
   ]
  },
  {
   "cell_type": "code",
   "execution_count": 33,
   "metadata": {
    "ExecuteTime": {
     "end_time": "2021-01-12T18:16:11.617527Z",
     "start_time": "2021-01-12T18:16:11.607438Z"
    }
   },
   "outputs": [
    {
     "data": {
      "text/html": [
       "<div>\n",
       "<style scoped>\n",
       "    .dataframe tbody tr th:only-of-type {\n",
       "        vertical-align: middle;\n",
       "    }\n",
       "\n",
       "    .dataframe tbody tr th {\n",
       "        vertical-align: top;\n",
       "    }\n",
       "\n",
       "    .dataframe thead th {\n",
       "        text-align: right;\n",
       "    }\n",
       "</style>\n",
       "<table border=\"1\" class=\"dataframe\">\n",
       "  <thead>\n",
       "    <tr style=\"text-align: right;\">\n",
       "      <th></th>\n",
       "      <th>total_qty</th>\n",
       "      <th>max_discount</th>\n",
       "    </tr>\n",
       "    <tr>\n",
       "      <th>OrderId</th>\n",
       "      <th></th>\n",
       "      <th></th>\n",
       "    </tr>\n",
       "  </thead>\n",
       "  <tbody>\n",
       "    <tr>\n",
       "      <th>10250</th>\n",
       "      <td>60</td>\n",
       "      <td>0.15</td>\n",
       "    </tr>\n",
       "    <tr>\n",
       "      <th>10251</th>\n",
       "      <td>41</td>\n",
       "      <td>0.05</td>\n",
       "    </tr>\n",
       "    <tr>\n",
       "      <th>10252</th>\n",
       "      <td>105</td>\n",
       "      <td>0.05</td>\n",
       "    </tr>\n",
       "    <tr>\n",
       "      <th>10254</th>\n",
       "      <td>57</td>\n",
       "      <td>0.15</td>\n",
       "    </tr>\n",
       "    <tr>\n",
       "      <th>10258</th>\n",
       "      <td>121</td>\n",
       "      <td>0.20</td>\n",
       "    </tr>\n",
       "  </tbody>\n",
       "</table>\n",
       "</div>"
      ],
      "text/plain": [
       "         total_qty  max_discount\n",
       "OrderId                         \n",
       "10250           60          0.15\n",
       "10251           41          0.05\n",
       "10252          105          0.05\n",
       "10254           57          0.15\n",
       "10258          121          0.20"
      ]
     },
     "execution_count": 33,
     "metadata": {},
     "output_type": "execute_result"
    }
   ],
   "source": [
    "orders_with_discount_df.head()"
   ]
  },
  {
   "cell_type": "code",
   "execution_count": 34,
   "metadata": {
    "ExecuteTime": {
     "end_time": "2021-01-12T18:16:14.633615Z",
     "start_time": "2021-01-12T18:16:14.611314Z"
    }
   },
   "outputs": [
    {
     "data": {
      "text/html": [
       "<div>\n",
       "<style scoped>\n",
       "    .dataframe tbody tr th:only-of-type {\n",
       "        vertical-align: middle;\n",
       "    }\n",
       "\n",
       "    .dataframe tbody tr th {\n",
       "        vertical-align: top;\n",
       "    }\n",
       "\n",
       "    .dataframe thead th {\n",
       "        text-align: right;\n",
       "    }\n",
       "</style>\n",
       "<table border=\"1\" class=\"dataframe\">\n",
       "  <thead>\n",
       "    <tr style=\"text-align: right;\">\n",
       "      <th></th>\n",
       "      <th>total_qty</th>\n",
       "      <th>max_discount</th>\n",
       "    </tr>\n",
       "  </thead>\n",
       "  <tbody>\n",
       "    <tr>\n",
       "      <th>count</th>\n",
       "      <td>380.000000</td>\n",
       "      <td>380.000000</td>\n",
       "    </tr>\n",
       "    <tr>\n",
       "      <th>mean</th>\n",
       "      <td>72.944737</td>\n",
       "      <td>0.146184</td>\n",
       "    </tr>\n",
       "    <tr>\n",
       "      <th>std</th>\n",
       "      <td>51.403927</td>\n",
       "      <td>0.071582</td>\n",
       "    </tr>\n",
       "    <tr>\n",
       "      <th>min</th>\n",
       "      <td>2.000000</td>\n",
       "      <td>0.050000</td>\n",
       "    </tr>\n",
       "    <tr>\n",
       "      <th>25%</th>\n",
       "      <td>37.000000</td>\n",
       "      <td>0.100000</td>\n",
       "    </tr>\n",
       "    <tr>\n",
       "      <th>50%</th>\n",
       "      <td>62.500000</td>\n",
       "      <td>0.150000</td>\n",
       "    </tr>\n",
       "    <tr>\n",
       "      <th>75%</th>\n",
       "      <td>95.000000</td>\n",
       "      <td>0.200000</td>\n",
       "    </tr>\n",
       "    <tr>\n",
       "      <th>max</th>\n",
       "      <td>330.000000</td>\n",
       "      <td>0.250000</td>\n",
       "    </tr>\n",
       "  </tbody>\n",
       "</table>\n",
       "</div>"
      ],
      "text/plain": [
       "        total_qty  max_discount\n",
       "count  380.000000    380.000000\n",
       "mean    72.944737      0.146184\n",
       "std     51.403927      0.071582\n",
       "min      2.000000      0.050000\n",
       "25%     37.000000      0.100000\n",
       "50%     62.500000      0.150000\n",
       "75%     95.000000      0.200000\n",
       "max    330.000000      0.250000"
      ]
     },
     "execution_count": 34,
     "metadata": {},
     "output_type": "execute_result"
    }
   ],
   "source": [
    "orders_with_discount_df.describe()"
   ]
  },
  {
   "cell_type": "markdown",
   "metadata": {},
   "source": [
    "## Conduct T-Test"
   ]
  },
  {
   "cell_type": "code",
   "execution_count": 45,
   "metadata": {
    "ExecuteTime": {
     "end_time": "2021-01-13T00:52:38.086799Z",
     "start_time": "2021-01-13T00:52:38.082320Z"
    }
   },
   "outputs": [],
   "source": [
    "results = stats.ttest_1samp(orders_with_discount_df['total_qty'], \n",
    "                            df_groupby_order_id['total_qty'].mean())"
   ]
  },
  {
   "cell_type": "code",
   "execution_count": 46,
   "metadata": {
    "ExecuteTime": {
     "end_time": "2021-01-13T00:52:39.030473Z",
     "start_time": "2021-01-13T00:52:39.027143Z"
    }
   },
   "outputs": [],
   "source": [
    "p_value = results[1]"
   ]
  },
  {
   "cell_type": "code",
   "execution_count": 47,
   "metadata": {
    "ExecuteTime": {
     "end_time": "2021-01-13T00:52:39.312748Z",
     "start_time": "2021-01-13T00:52:39.307905Z"
    }
   },
   "outputs": [
    {
     "data": {
      "text/plain": [
       "3.114975153738426e-05"
      ]
     },
     "execution_count": 47,
     "metadata": {},
     "output_type": "execute_result"
    }
   ],
   "source": [
    "p_value"
   ]
  },
  {
   "cell_type": "markdown",
   "metadata": {},
   "source": [
    "## Results"
   ]
  },
  {
   "cell_type": "markdown",
   "metadata": {},
   "source": [
    "Because the p-value is less than alpha, the null hypothesis can be rejected in favor of the alternative hypothesis.  Hence, with a high confidence, offering a discount leads to a different amount of items purchased by a customer."
   ]
  },
  {
   "cell_type": "markdown",
   "metadata": {},
   "source": [
    "# Do discounts have a significant effect on the amount purchased of a particular product?"
   ]
  },
  {
   "cell_type": "markdown",
   "metadata": {},
   "source": [
    "## Hypothesis"
   ]
  },
  {
   "cell_type": "markdown",
   "metadata": {},
   "source": [
    "H0 = A discount **does not** have a significant effect on the amount purchased of a particular product\n",
    "HA = A discount **does**  have a significant effect on the amount purchased of a particular product"
   ]
  },
  {
   "cell_type": "markdown",
   "metadata": {},
   "source": [
    "## Set Significance Level"
   ]
  },
  {
   "cell_type": "code",
   "execution_count": 61,
   "metadata": {
    "ExecuteTime": {
     "end_time": "2021-01-13T01:25:05.445598Z",
     "start_time": "2021-01-13T01:25:05.442278Z"
    }
   },
   "outputs": [],
   "source": [
    "alpha = 0.05"
   ]
  },
  {
   "cell_type": "markdown",
   "metadata": {},
   "source": [
    "## Conduct T-Tests"
   ]
  },
  {
   "cell_type": "code",
   "execution_count": 51,
   "metadata": {
    "ExecuteTime": {
     "end_time": "2021-01-13T01:15:35.375181Z",
     "start_time": "2021-01-13T01:15:35.366594Z"
    }
   },
   "outputs": [
    {
     "data": {
      "text/plain": [
       "59    54\n",
       "31    51\n",
       "24    51\n",
       "60    51\n",
       "56    50\n",
       "      ..\n",
       "66     8\n",
       "48     6\n",
       "15     6\n",
       "37     6\n",
       "9      5\n",
       "Name: ProductId, Length: 77, dtype: int64"
      ]
     },
     "execution_count": 51,
     "metadata": {},
     "output_type": "execute_result"
    }
   ],
   "source": [
    "df.ProductId.value_counts()"
   ]
  },
  {
   "cell_type": "code",
   "execution_count": 52,
   "metadata": {
    "ExecuteTime": {
     "end_time": "2021-01-13T01:16:21.823116Z",
     "start_time": "2021-01-13T01:16:21.818173Z"
    }
   },
   "outputs": [],
   "source": [
    "df_59 = df[df.ProductId == 59]"
   ]
  },
  {
   "cell_type": "code",
   "execution_count": 53,
   "metadata": {
    "ExecuteTime": {
     "end_time": "2021-01-13T01:16:53.771949Z",
     "start_time": "2021-01-13T01:16:53.768219Z"
    }
   },
   "outputs": [],
   "source": [
    "df_59_qty_mean = df_59.Quantity.mean()"
   ]
  },
  {
   "cell_type": "code",
   "execution_count": 54,
   "metadata": {
    "ExecuteTime": {
     "end_time": "2021-01-13T01:17:43.239125Z",
     "start_time": "2021-01-13T01:17:43.234978Z"
    }
   },
   "outputs": [],
   "source": [
    "results = stats.ttest_1samp(df_59.Quantity, df_59_qty_mean)"
   ]
  },
  {
   "cell_type": "code",
   "execution_count": 55,
   "metadata": {
    "ExecuteTime": {
     "end_time": "2021-01-13T01:17:47.188018Z",
     "start_time": "2021-01-13T01:17:47.183386Z"
    }
   },
   "outputs": [
    {
     "data": {
      "text/plain": [
       "Ttest_1sampResult(statistic=0.0, pvalue=1.0)"
      ]
     },
     "execution_count": 55,
     "metadata": {},
     "output_type": "execute_result"
    }
   ],
   "source": [
    "results"
   ]
  },
  {
   "cell_type": "code",
   "execution_count": 57,
   "metadata": {
    "ExecuteTime": {
     "end_time": "2021-01-13T01:21:57.092551Z",
     "start_time": "2021-01-13T01:21:56.778871Z"
    }
   },
   "outputs": [
    {
     "name": "stderr",
     "output_type": "stream",
     "text": [
      "/Users/freethrall/anaconda3/envs/learn-env/lib/python3.6/site-packages/numpy/core/fromnumeric.py:3367: RuntimeWarning: Degrees of freedom <= 0 for slice\n",
      "  **kwargs)\n",
      "/Users/freethrall/anaconda3/envs/learn-env/lib/python3.6/site-packages/numpy/core/_methods.py:132: RuntimeWarning: invalid value encountered in double_scalars\n",
      "  ret = ret.dtype.type(ret / rcount)\n"
     ]
    }
   ],
   "source": [
    "t_test_results = []\n",
    "\n",
    "for product_id in df.ProductId.unique():\n",
    "    results = stats.ttest_1samp(df[(df.ProductId == product_id) & (df.Discount > 0.0)]['Quantity'], \n",
    "                                df[(df.ProductId == product_id)]['Quantity'].mean())\n",
    "    t_test_results.append((product_id, results[1]))"
   ]
  },
  {
   "cell_type": "code",
   "execution_count": 63,
   "metadata": {
    "ExecuteTime": {
     "end_time": "2021-01-13T01:25:23.638034Z",
     "start_time": "2021-01-13T01:25:23.634280Z"
    }
   },
   "outputs": [],
   "source": [
    "sig_results = [result for result in t_test_results if result[1] < alpha]"
   ]
  },
  {
   "cell_type": "code",
   "execution_count": 64,
   "metadata": {
    "ExecuteTime": {
     "end_time": "2021-01-13T01:25:24.336608Z",
     "start_time": "2021-01-13T01:25:24.331503Z"
    }
   },
   "outputs": [
    {
     "data": {
      "text/plain": [
       "[(57, 0.0216644542070736), (3, 0.0)]"
      ]
     },
     "execution_count": 64,
     "metadata": {},
     "output_type": "execute_result"
    }
   ],
   "source": [
    "sig_results"
   ]
  },
  {
   "cell_type": "markdown",
   "metadata": {},
   "source": [
    "## Results"
   ]
  },
  {
   "cell_type": "markdown",
   "metadata": {},
   "source": [
    "The null hypothesis can be rejected in favor of the alternative hypothesis only for products 57 and 3."
   ]
  },
  {
   "cell_type": "markdown",
   "metadata": {},
   "source": [
    "## Review order details of the products for which discounts had a significant effect"
   ]
  },
  {
   "cell_type": "code",
   "execution_count": 65,
   "metadata": {
    "ExecuteTime": {
     "end_time": "2021-01-13T01:28:42.139143Z",
     "start_time": "2021-01-13T01:28:42.119099Z"
    }
   },
   "outputs": [
    {
     "data": {
      "text/html": [
       "<div>\n",
       "<style scoped>\n",
       "    .dataframe tbody tr th:only-of-type {\n",
       "        vertical-align: middle;\n",
       "    }\n",
       "\n",
       "    .dataframe tbody tr th {\n",
       "        vertical-align: top;\n",
       "    }\n",
       "\n",
       "    .dataframe thead th {\n",
       "        text-align: right;\n",
       "    }\n",
       "</style>\n",
       "<table border=\"1\" class=\"dataframe\">\n",
       "  <thead>\n",
       "    <tr style=\"text-align: right;\">\n",
       "      <th></th>\n",
       "      <th>Id</th>\n",
       "      <th>OrderId</th>\n",
       "      <th>ProductId</th>\n",
       "      <th>UnitPrice</th>\n",
       "      <th>Quantity</th>\n",
       "      <th>Discount</th>\n",
       "    </tr>\n",
       "  </thead>\n",
       "  <tbody>\n",
       "    <tr>\n",
       "      <th>9</th>\n",
       "      <td>10251/57</td>\n",
       "      <td>10251</td>\n",
       "      <td>57</td>\n",
       "      <td>15.6</td>\n",
       "      <td>15</td>\n",
       "      <td>0.05</td>\n",
       "    </tr>\n",
       "    <tr>\n",
       "      <th>35</th>\n",
       "      <td>10260/57</td>\n",
       "      <td>10260</td>\n",
       "      <td>57</td>\n",
       "      <td>15.6</td>\n",
       "      <td>50</td>\n",
       "      <td>0.00</td>\n",
       "    </tr>\n",
       "    <tr>\n",
       "      <th>90</th>\n",
       "      <td>10282/57</td>\n",
       "      <td>10282</td>\n",
       "      <td>57</td>\n",
       "      <td>15.6</td>\n",
       "      <td>2</td>\n",
       "      <td>0.00</td>\n",
       "    </tr>\n",
       "    <tr>\n",
       "      <th>207</th>\n",
       "      <td>10326/57</td>\n",
       "      <td>10326</td>\n",
       "      <td>57</td>\n",
       "      <td>15.6</td>\n",
       "      <td>16</td>\n",
       "      <td>0.00</td>\n",
       "    </tr>\n",
       "    <tr>\n",
       "      <th>285</th>\n",
       "      <td>10355/57</td>\n",
       "      <td>10355</td>\n",
       "      <td>57</td>\n",
       "      <td>15.6</td>\n",
       "      <td>25</td>\n",
       "      <td>0.00</td>\n",
       "    </tr>\n",
       "    <tr>\n",
       "      <th>322</th>\n",
       "      <td>10368/57</td>\n",
       "      <td>10368</td>\n",
       "      <td>57</td>\n",
       "      <td>15.6</td>\n",
       "      <td>25</td>\n",
       "      <td>0.00</td>\n",
       "    </tr>\n",
       "    <tr>\n",
       "      <th>448</th>\n",
       "      <td>10416/57</td>\n",
       "      <td>10416</td>\n",
       "      <td>57</td>\n",
       "      <td>15.6</td>\n",
       "      <td>20</td>\n",
       "      <td>0.00</td>\n",
       "    </tr>\n",
       "    <tr>\n",
       "      <th>503</th>\n",
       "      <td>10438/57</td>\n",
       "      <td>10438</td>\n",
       "      <td>57</td>\n",
       "      <td>15.6</td>\n",
       "      <td>15</td>\n",
       "      <td>0.20</td>\n",
       "    </tr>\n",
       "    <tr>\n",
       "      <th>763</th>\n",
       "      <td>10535/57</td>\n",
       "      <td>10535</td>\n",
       "      <td>57</td>\n",
       "      <td>19.5</td>\n",
       "      <td>5</td>\n",
       "      <td>0.10</td>\n",
       "    </tr>\n",
       "    <tr>\n",
       "      <th>886</th>\n",
       "      <td>10578/57</td>\n",
       "      <td>10578</td>\n",
       "      <td>57</td>\n",
       "      <td>19.5</td>\n",
       "      <td>6</td>\n",
       "      <td>0.00</td>\n",
       "    </tr>\n",
       "    <tr>\n",
       "      <th>893</th>\n",
       "      <td>10582/57</td>\n",
       "      <td>10582</td>\n",
       "      <td>57</td>\n",
       "      <td>19.5</td>\n",
       "      <td>4</td>\n",
       "      <td>0.00</td>\n",
       "    </tr>\n",
       "    <tr>\n",
       "      <th>926</th>\n",
       "      <td>10597/57</td>\n",
       "      <td>10597</td>\n",
       "      <td>57</td>\n",
       "      <td>19.5</td>\n",
       "      <td>20</td>\n",
       "      <td>0.00</td>\n",
       "    </tr>\n",
       "    <tr>\n",
       "      <th>1210</th>\n",
       "      <td>10707/57</td>\n",
       "      <td>10707</td>\n",
       "      <td>57</td>\n",
       "      <td>19.5</td>\n",
       "      <td>40</td>\n",
       "      <td>0.00</td>\n",
       "    </tr>\n",
       "    <tr>\n",
       "      <th>1336</th>\n",
       "      <td>10755/57</td>\n",
       "      <td>10755</td>\n",
       "      <td>57</td>\n",
       "      <td>19.5</td>\n",
       "      <td>14</td>\n",
       "      <td>0.25</td>\n",
       "    </tr>\n",
       "    <tr>\n",
       "      <th>1499</th>\n",
       "      <td>10823/57</td>\n",
       "      <td>10823</td>\n",
       "      <td>57</td>\n",
       "      <td>19.5</td>\n",
       "      <td>15</td>\n",
       "      <td>0.00</td>\n",
       "    </tr>\n",
       "    <tr>\n",
       "      <th>1507</th>\n",
       "      <td>10826/57</td>\n",
       "      <td>10826</td>\n",
       "      <td>57</td>\n",
       "      <td>19.5</td>\n",
       "      <td>15</td>\n",
       "      <td>0.00</td>\n",
       "    </tr>\n",
       "    <tr>\n",
       "      <th>1537</th>\n",
       "      <td>10836/57</td>\n",
       "      <td>10836</td>\n",
       "      <td>57</td>\n",
       "      <td>19.5</td>\n",
       "      <td>24</td>\n",
       "      <td>0.00</td>\n",
       "    </tr>\n",
       "    <tr>\n",
       "      <th>1584</th>\n",
       "      <td>10851/57</td>\n",
       "      <td>10851</td>\n",
       "      <td>57</td>\n",
       "      <td>19.5</td>\n",
       "      <td>10</td>\n",
       "      <td>0.05</td>\n",
       "    </tr>\n",
       "    <tr>\n",
       "      <th>1737</th>\n",
       "      <td>10916/57</td>\n",
       "      <td>10916</td>\n",
       "      <td>57</td>\n",
       "      <td>19.5</td>\n",
       "      <td>20</td>\n",
       "      <td>0.00</td>\n",
       "    </tr>\n",
       "    <tr>\n",
       "      <th>1775</th>\n",
       "      <td>10931/57</td>\n",
       "      <td>10931</td>\n",
       "      <td>57</td>\n",
       "      <td>19.5</td>\n",
       "      <td>30</td>\n",
       "      <td>0.00</td>\n",
       "    </tr>\n",
       "    <tr>\n",
       "      <th>1897</th>\n",
       "      <td>10983/57</td>\n",
       "      <td>10983</td>\n",
       "      <td>57</td>\n",
       "      <td>19.5</td>\n",
       "      <td>15</td>\n",
       "      <td>0.00</td>\n",
       "    </tr>\n",
       "    <tr>\n",
       "      <th>2047</th>\n",
       "      <td>11039/57</td>\n",
       "      <td>11039</td>\n",
       "      <td>57</td>\n",
       "      <td>19.5</td>\n",
       "      <td>28</td>\n",
       "      <td>0.00</td>\n",
       "    </tr>\n",
       "    <tr>\n",
       "      <th>2077</th>\n",
       "      <td>11055/57</td>\n",
       "      <td>11055</td>\n",
       "      <td>57</td>\n",
       "      <td>19.5</td>\n",
       "      <td>20</td>\n",
       "      <td>0.00</td>\n",
       "    </tr>\n",
       "  </tbody>\n",
       "</table>\n",
       "</div>"
      ],
      "text/plain": [
       "            Id  OrderId  ProductId  UnitPrice  Quantity  Discount\n",
       "9     10251/57    10251         57       15.6        15      0.05\n",
       "35    10260/57    10260         57       15.6        50      0.00\n",
       "90    10282/57    10282         57       15.6         2      0.00\n",
       "207   10326/57    10326         57       15.6        16      0.00\n",
       "285   10355/57    10355         57       15.6        25      0.00\n",
       "322   10368/57    10368         57       15.6        25      0.00\n",
       "448   10416/57    10416         57       15.6        20      0.00\n",
       "503   10438/57    10438         57       15.6        15      0.20\n",
       "763   10535/57    10535         57       19.5         5      0.10\n",
       "886   10578/57    10578         57       19.5         6      0.00\n",
       "893   10582/57    10582         57       19.5         4      0.00\n",
       "926   10597/57    10597         57       19.5        20      0.00\n",
       "1210  10707/57    10707         57       19.5        40      0.00\n",
       "1336  10755/57    10755         57       19.5        14      0.25\n",
       "1499  10823/57    10823         57       19.5        15      0.00\n",
       "1507  10826/57    10826         57       19.5        15      0.00\n",
       "1537  10836/57    10836         57       19.5        24      0.00\n",
       "1584  10851/57    10851         57       19.5        10      0.05\n",
       "1737  10916/57    10916         57       19.5        20      0.00\n",
       "1775  10931/57    10931         57       19.5        30      0.00\n",
       "1897  10983/57    10983         57       19.5        15      0.00\n",
       "2047  11039/57    11039         57       19.5        28      0.00\n",
       "2077  11055/57    11055         57       19.5        20      0.00"
      ]
     },
     "execution_count": 65,
     "metadata": {},
     "output_type": "execute_result"
    }
   ],
   "source": [
    "df[df.ProductId == 57]"
   ]
  },
  {
   "cell_type": "code",
   "execution_count": 67,
   "metadata": {
    "ExecuteTime": {
     "end_time": "2021-01-13T01:30:51.648836Z",
     "start_time": "2021-01-13T01:30:51.641817Z"
    }
   },
   "outputs": [
    {
     "data": {
      "text/plain": [
       "18.869565217391305"
      ]
     },
     "execution_count": 67,
     "metadata": {},
     "output_type": "execute_result"
    }
   ],
   "source": [
    "df[df.ProductId == 57]['Quantity'].mean()"
   ]
  },
  {
   "cell_type": "code",
   "execution_count": 66,
   "metadata": {
    "ExecuteTime": {
     "end_time": "2021-01-13T01:29:29.364779Z",
     "start_time": "2021-01-13T01:29:29.347285Z"
    },
    "scrolled": false
   },
   "outputs": [
    {
     "data": {
      "text/html": [
       "<div>\n",
       "<style scoped>\n",
       "    .dataframe tbody tr th:only-of-type {\n",
       "        vertical-align: middle;\n",
       "    }\n",
       "\n",
       "    .dataframe tbody tr th {\n",
       "        vertical-align: top;\n",
       "    }\n",
       "\n",
       "    .dataframe thead th {\n",
       "        text-align: right;\n",
       "    }\n",
       "</style>\n",
       "<table border=\"1\" class=\"dataframe\">\n",
       "  <thead>\n",
       "    <tr style=\"text-align: right;\">\n",
       "      <th></th>\n",
       "      <th>Id</th>\n",
       "      <th>OrderId</th>\n",
       "      <th>ProductId</th>\n",
       "      <th>UnitPrice</th>\n",
       "      <th>Quantity</th>\n",
       "      <th>Discount</th>\n",
       "    </tr>\n",
       "  </thead>\n",
       "  <tbody>\n",
       "    <tr>\n",
       "      <th>109</th>\n",
       "      <td>10289/3</td>\n",
       "      <td>10289</td>\n",
       "      <td>3</td>\n",
       "      <td>8.0</td>\n",
       "      <td>30</td>\n",
       "      <td>0.0</td>\n",
       "    </tr>\n",
       "    <tr>\n",
       "      <th>419</th>\n",
       "      <td>10405/3</td>\n",
       "      <td>10405</td>\n",
       "      <td>3</td>\n",
       "      <td>8.0</td>\n",
       "      <td>50</td>\n",
       "      <td>0.0</td>\n",
       "    </tr>\n",
       "    <tr>\n",
       "      <th>628</th>\n",
       "      <td>10485/3</td>\n",
       "      <td>10485</td>\n",
       "      <td>3</td>\n",
       "      <td>8.0</td>\n",
       "      <td>20</td>\n",
       "      <td>0.1</td>\n",
       "    </tr>\n",
       "    <tr>\n",
       "      <th>780</th>\n",
       "      <td>10540/3</td>\n",
       "      <td>10540</td>\n",
       "      <td>3</td>\n",
       "      <td>10.0</td>\n",
       "      <td>60</td>\n",
       "      <td>0.0</td>\n",
       "    </tr>\n",
       "    <tr>\n",
       "      <th>909</th>\n",
       "      <td>10591/3</td>\n",
       "      <td>10591</td>\n",
       "      <td>3</td>\n",
       "      <td>10.0</td>\n",
       "      <td>14</td>\n",
       "      <td>0.0</td>\n",
       "    </tr>\n",
       "    <tr>\n",
       "      <th>1196</th>\n",
       "      <td>10702/3</td>\n",
       "      <td>10702</td>\n",
       "      <td>3</td>\n",
       "      <td>10.0</td>\n",
       "      <td>6</td>\n",
       "      <td>0.0</td>\n",
       "    </tr>\n",
       "    <tr>\n",
       "      <th>1299</th>\n",
       "      <td>10742/3</td>\n",
       "      <td>10742</td>\n",
       "      <td>3</td>\n",
       "      <td>10.0</td>\n",
       "      <td>20</td>\n",
       "      <td>0.0</td>\n",
       "    </tr>\n",
       "    <tr>\n",
       "      <th>1362</th>\n",
       "      <td>10764/3</td>\n",
       "      <td>10764</td>\n",
       "      <td>3</td>\n",
       "      <td>10.0</td>\n",
       "      <td>20</td>\n",
       "      <td>0.1</td>\n",
       "    </tr>\n",
       "    <tr>\n",
       "      <th>1577</th>\n",
       "      <td>10849/3</td>\n",
       "      <td>10849</td>\n",
       "      <td>3</td>\n",
       "      <td>10.0</td>\n",
       "      <td>49</td>\n",
       "      <td>0.0</td>\n",
       "    </tr>\n",
       "    <tr>\n",
       "      <th>1598</th>\n",
       "      <td>10857/3</td>\n",
       "      <td>10857</td>\n",
       "      <td>3</td>\n",
       "      <td>10.0</td>\n",
       "      <td>30</td>\n",
       "      <td>0.0</td>\n",
       "    </tr>\n",
       "    <tr>\n",
       "      <th>1985</th>\n",
       "      <td>11017/3</td>\n",
       "      <td>11017</td>\n",
       "      <td>3</td>\n",
       "      <td>10.0</td>\n",
       "      <td>25</td>\n",
       "      <td>0.0</td>\n",
       "    </tr>\n",
       "    <tr>\n",
       "      <th>2131</th>\n",
       "      <td>11077/3</td>\n",
       "      <td>11077</td>\n",
       "      <td>3</td>\n",
       "      <td>10.0</td>\n",
       "      <td>4</td>\n",
       "      <td>0.0</td>\n",
       "    </tr>\n",
       "  </tbody>\n",
       "</table>\n",
       "</div>"
      ],
      "text/plain": [
       "           Id  OrderId  ProductId  UnitPrice  Quantity  Discount\n",
       "109   10289/3    10289          3        8.0        30       0.0\n",
       "419   10405/3    10405          3        8.0        50       0.0\n",
       "628   10485/3    10485          3        8.0        20       0.1\n",
       "780   10540/3    10540          3       10.0        60       0.0\n",
       "909   10591/3    10591          3       10.0        14       0.0\n",
       "1196  10702/3    10702          3       10.0         6       0.0\n",
       "1299  10742/3    10742          3       10.0        20       0.0\n",
       "1362  10764/3    10764          3       10.0        20       0.1\n",
       "1577  10849/3    10849          3       10.0        49       0.0\n",
       "1598  10857/3    10857          3       10.0        30       0.0\n",
       "1985  11017/3    11017          3       10.0        25       0.0\n",
       "2131  11077/3    11077          3       10.0         4       0.0"
      ]
     },
     "execution_count": 66,
     "metadata": {},
     "output_type": "execute_result"
    }
   ],
   "source": [
    "df[df.ProductId == 3]"
   ]
  },
  {
   "cell_type": "code",
   "execution_count": 68,
   "metadata": {
    "ExecuteTime": {
     "end_time": "2021-01-13T01:31:12.878301Z",
     "start_time": "2021-01-13T01:31:12.870985Z"
    }
   },
   "outputs": [
    {
     "data": {
      "text/plain": [
       "27.333333333333332"
      ]
     },
     "execution_count": 68,
     "metadata": {},
     "output_type": "execute_result"
    }
   ],
   "source": [
    "df[df.ProductId == 3]['Quantity'].mean()"
   ]
  },
  {
   "cell_type": "markdown",
   "metadata": {},
   "source": [
    "Interestingly offering a discount on these items resulted in quantities lower than the population means.  However there is so little data on a per item basis, that I don't think the results of this test can be truly be considered significant."
   ]
  },
  {
   "cell_type": "markdown",
   "metadata": {},
   "source": [
    "# At what discount levels is there a significant effect on the quantity of items that a customer purchases?"
   ]
  },
  {
   "cell_type": "markdown",
   "metadata": {},
   "source": [
    "## Hypothesis"
   ]
  },
  {
   "cell_type": "markdown",
   "metadata": {},
   "source": [
    "H0 = A particular discount **does not** have a significant effect on the quantity of items purchased in a order\n",
    "\n",
    "HA = A particular discount **does** have a significant effect on the quantity of items purchased in a order"
   ]
  },
  {
   "cell_type": "markdown",
   "metadata": {},
   "source": [
    "## Set Significance Level"
   ]
  },
  {
   "cell_type": "code",
   "execution_count": 69,
   "metadata": {
    "ExecuteTime": {
     "end_time": "2021-01-13T01:41:17.343416Z",
     "start_time": "2021-01-13T01:41:17.340014Z"
    }
   },
   "outputs": [],
   "source": [
    "alpha = 0.05"
   ]
  },
  {
   "cell_type": "markdown",
   "metadata": {},
   "source": [
    "## Conduct T-Test"
   ]
  },
  {
   "cell_type": "code",
   "execution_count": 73,
   "metadata": {
    "ExecuteTime": {
     "end_time": "2021-01-13T01:46:40.617396Z",
     "start_time": "2021-01-13T01:46:40.613568Z"
    }
   },
   "outputs": [],
   "source": [
    "discounts = df_groupby_order_id.max_discount.unique()"
   ]
  },
  {
   "cell_type": "code",
   "execution_count": 76,
   "metadata": {
    "ExecuteTime": {
     "end_time": "2021-01-13T01:47:34.372999Z",
     "start_time": "2021-01-13T01:47:34.367199Z"
    }
   },
   "outputs": [
    {
     "data": {
      "text/plain": [
       "array([0.  , 0.15, 0.05, 0.2 , 0.25, 0.1 ])"
      ]
     },
     "execution_count": 76,
     "metadata": {},
     "output_type": "execute_result"
    }
   ],
   "source": [
    "discounts"
   ]
  },
  {
   "cell_type": "code",
   "execution_count": 79,
   "metadata": {
    "ExecuteTime": {
     "end_time": "2021-01-13T01:49:48.335821Z",
     "start_time": "2021-01-13T01:49:48.332329Z"
    }
   },
   "outputs": [],
   "source": [
    "# Remove 0. because that is not a discount\n",
    "discounts = np.delete(discounts, 0)"
   ]
  },
  {
   "cell_type": "code",
   "execution_count": 81,
   "metadata": {
    "ExecuteTime": {
     "end_time": "2021-01-13T01:50:08.360781Z",
     "start_time": "2021-01-13T01:50:08.346724Z"
    }
   },
   "outputs": [],
   "source": [
    "t_test_results = []\n",
    "for discount in discounts:\n",
    "    results = stats.ttest_1samp(df_groupby_order_id[df_groupby_order_id.max_discount == discount]['total_qty'],\n",
    "                                df_groupby_order_id['total_qty'].mean())\n",
    "    t_test_results.append((discount, results[1]))"
   ]
  },
  {
   "cell_type": "code",
   "execution_count": 82,
   "metadata": {
    "ExecuteTime": {
     "end_time": "2021-01-13T01:50:08.857559Z",
     "start_time": "2021-01-13T01:50:08.852607Z"
    }
   },
   "outputs": [
    {
     "data": {
      "text/plain": [
       "[(0.15, 0.028938655440696546),\n",
       " (0.05, 0.11135513584346501),\n",
       " (0.2, 0.2342174363274203),\n",
       " (0.25, 0.023154173822675702),\n",
       " (0.1, 0.05283219160777333)]"
      ]
     },
     "execution_count": 82,
     "metadata": {},
     "output_type": "execute_result"
    }
   ],
   "source": [
    "t_test_results"
   ]
  },
  {
   "cell_type": "code",
   "execution_count": 83,
   "metadata": {
    "ExecuteTime": {
     "end_time": "2021-01-13T01:51:02.789301Z",
     "start_time": "2021-01-13T01:51:02.785561Z"
    }
   },
   "outputs": [],
   "source": [
    "sig_results = [result for result in t_test_results if result[1] < alpha]"
   ]
  },
  {
   "cell_type": "code",
   "execution_count": 84,
   "metadata": {
    "ExecuteTime": {
     "end_time": "2021-01-13T01:51:06.086817Z",
     "start_time": "2021-01-13T01:51:06.081794Z"
    }
   },
   "outputs": [
    {
     "data": {
      "text/plain": [
       "[(0.15, 0.028938655440696546), (0.25, 0.023154173822675702)]"
      ]
     },
     "execution_count": 84,
     "metadata": {},
     "output_type": "execute_result"
    }
   ],
   "source": [
    "sig_results"
   ]
  },
  {
   "cell_type": "markdown",
   "metadata": {},
   "source": [
    "## Results"
   ]
  },
  {
   "cell_type": "markdown",
   "metadata": {},
   "source": [
    "For discounts of 15% and 25% the null hypothesis can be rejected in favor of the alternative hypothesis, but for discounts of 5%, 10%, and 20% the null hypothesis can not be rejected."
   ]
  },
  {
   "cell_type": "markdown",
   "metadata": {},
   "source": [
    "## Recommendations"
   ]
  },
  {
   "cell_type": "markdown",
   "metadata": {},
   "source": [
    "Offer discounts of 15 or 25 percent in order to increase total order item quantity."
   ]
  },
  {
   "cell_type": "code",
   "execution_count": null,
   "metadata": {},
   "outputs": [],
   "source": []
  }
 ],
 "metadata": {
  "kernelspec": {
   "display_name": "learn-env",
   "language": "python",
   "name": "learn-env"
  },
  "language_info": {
   "codemirror_mode": {
    "name": "ipython",
    "version": 3
   },
   "file_extension": ".py",
   "mimetype": "text/x-python",
   "name": "python",
   "nbconvert_exporter": "python",
   "pygments_lexer": "ipython3",
   "version": "3.6.9"
  },
  "toc": {
   "base_numbering": 1,
   "nav_menu": {},
   "number_sections": true,
   "sideBar": true,
   "skip_h1_title": false,
   "title_cell": "Table of Contents",
   "title_sidebar": "Contents",
   "toc_cell": false,
   "toc_position": {},
   "toc_section_display": true,
   "toc_window_display": false
  },
  "varInspector": {
   "cols": {
    "lenName": 16,
    "lenType": 16,
    "lenVar": 40
   },
   "kernels_config": {
    "python": {
     "delete_cmd_postfix": "",
     "delete_cmd_prefix": "del ",
     "library": "var_list.py",
     "varRefreshCmd": "print(var_dic_list())"
    },
    "r": {
     "delete_cmd_postfix": ") ",
     "delete_cmd_prefix": "rm(",
     "library": "var_list.r",
     "varRefreshCmd": "cat(var_dic_list()) "
    }
   },
   "types_to_exclude": [
    "module",
    "function",
    "builtin_function_or_method",
    "instance",
    "_Feature"
   ],
   "window_display": false
  }
 },
 "nbformat": 4,
 "nbformat_minor": 2
}
