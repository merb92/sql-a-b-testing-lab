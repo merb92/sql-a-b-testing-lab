{
 "cells": [
  {
   "cell_type": "markdown",
   "metadata": {},
   "source": [
    "# Region Sales Performance Hypothesis Test"
   ]
  },
  {
   "cell_type": "markdown",
   "metadata": {},
   "source": [
    "# Imports and Constants"
   ]
  },
  {
   "cell_type": "code",
   "execution_count": 1,
   "metadata": {
    "ExecuteTime": {
     "end_time": "2021-01-14T16:27:27.617269Z",
     "start_time": "2021-01-14T16:27:26.191171Z"
    }
   },
   "outputs": [],
   "source": [
    "import sqlite3\n",
    "import pandas as pd\n",
    "import matplotlib.pyplot as plt\n",
    "%matplotlib inline\n",
    "import numpy as np\n",
    "import scipy.stats as stats"
   ]
  },
  {
   "cell_type": "code",
   "execution_count": 2,
   "metadata": {
    "ExecuteTime": {
     "end_time": "2021-01-14T16:27:33.014222Z",
     "start_time": "2021-01-14T16:27:33.010806Z"
    }
   },
   "outputs": [],
   "source": [
    "DB_NAME = 'Northwind_small.sqlite'\n",
    "RANDOM_STATE = 42"
   ]
  },
  {
   "cell_type": "markdown",
   "metadata": {},
   "source": [
    "# Connect to Database"
   ]
  },
  {
   "cell_type": "code",
   "execution_count": 3,
   "metadata": {
    "ExecuteTime": {
     "end_time": "2021-01-14T16:28:14.302492Z",
     "start_time": "2021-01-14T16:28:14.298627Z"
    }
   },
   "outputs": [],
   "source": [
    "conn = sqlite3.connect(DB_NAME)\n",
    "cur = conn.cursor()"
   ]
  },
  {
   "cell_type": "markdown",
   "metadata": {},
   "source": [
    "# Is any region doing significantly better than the combination of regions when considering order totals?"
   ]
  },
  {
   "cell_type": "markdown",
   "metadata": {},
   "source": [
    "## Hypothesis"
   ]
  },
  {
   "cell_type": "markdown",
   "metadata": {},
   "source": [
    "H0 = None of the regions is significantly different from the population\n",
    "\n",
    "HA = Region x is significantly different from the population"
   ]
  },
  {
   "cell_type": "markdown",
   "metadata": {},
   "source": [
    "## Set significance level"
   ]
  },
  {
   "cell_type": "code",
   "execution_count": 4,
   "metadata": {
    "ExecuteTime": {
     "end_time": "2021-01-14T16:30:37.200104Z",
     "start_time": "2021-01-14T16:30:37.196778Z"
    }
   },
   "outputs": [],
   "source": [
    "alpha = 0.05"
   ]
  },
  {
   "cell_type": "markdown",
   "metadata": {},
   "source": [
    "## Test Type"
   ]
  },
  {
   "cell_type": "markdown",
   "metadata": {},
   "source": [
    "One tailed, One Sample T-Test"
   ]
  },
  {
   "cell_type": "markdown",
   "metadata": {},
   "source": [
    "## Query database for data"
   ]
  },
  {
   "cell_type": "code",
   "execution_count": 5,
   "metadata": {
    "ExecuteTime": {
     "end_time": "2021-01-14T16:31:54.343213Z",
     "start_time": "2021-01-14T16:31:54.339231Z"
    }
   },
   "outputs": [],
   "source": [
    "q = \"\"\"\n",
    "    WITH OrderTotals AS (SELECT `Order`.ID AS OrderID,\n",
    "                                `Order`.CustomerID,\n",
    "                                `Order`.EmployeeID,\n",
    "                                SUM (CASE \n",
    "                                        WHEN OrderDetail.Discount = 0.0\n",
    "                                        THEN OrderDetail.UnitPrice * OrderDetail.Quantity\n",
    "                                        ELSE OrderDetail.UnitPrice * OrderDetail.Quantity * OrderDetail.Discount\n",
    "                                     END) AS OrderTotal\n",
    "                         FROM `Order`\n",
    "                         JOIN OrderDetail\n",
    "                         ON `Order`.ID = OrderDetail.OrderID\n",
    "                         GROUP BY `Order`.ID )\n",
    "    \n",
    "    SELECT  DISTINCT Region.ID AS RegionId,\n",
    "                     Region.RegionDescription,\n",
    "                     OrderTotals.OrderID,\n",
    "                     OrderTotals.OrderTotal\n",
    "    FROM Region\n",
    "    JOIN Territory\n",
    "    ON Region.ID = Territory.RegionID\n",
    "    JOIN EmployeeTerritory\n",
    "    ON Territory.ID = EmployeeTerritory.TerritoryID\n",
    "    JOIN Employee\n",
    "    ON EmployeeTerritory.EmployeeID = Employee.ID\n",
    "    JOIN OrderTotals\n",
    "    ON Employee.ID = OrderTotals.EmployeeID\n",
    "    \n",
    "    \"\"\""
   ]
  },
  {
   "cell_type": "code",
   "execution_count": 7,
   "metadata": {
    "ExecuteTime": {
     "end_time": "2021-01-14T16:32:48.593279Z",
     "start_time": "2021-01-14T16:32:48.575158Z"
    }
   },
   "outputs": [],
   "source": [
    "df = pd.DataFrame(cur.execute(q).fetchall(), \n",
    "                  columns=[description[0] for description in cur.description])"
   ]
  },
  {
   "cell_type": "code",
   "execution_count": 8,
   "metadata": {
    "ExecuteTime": {
     "end_time": "2021-01-14T16:32:56.082787Z",
     "start_time": "2021-01-14T16:32:56.067721Z"
    }
   },
   "outputs": [
    {
     "data": {
      "text/html": [
       "<div>\n",
       "<style scoped>\n",
       "    .dataframe tbody tr th:only-of-type {\n",
       "        vertical-align: middle;\n",
       "    }\n",
       "\n",
       "    .dataframe tbody tr th {\n",
       "        vertical-align: top;\n",
       "    }\n",
       "\n",
       "    .dataframe thead th {\n",
       "        text-align: right;\n",
       "    }\n",
       "</style>\n",
       "<table border=\"1\" class=\"dataframe\">\n",
       "  <thead>\n",
       "    <tr style=\"text-align: right;\">\n",
       "      <th></th>\n",
       "      <th>RegionId</th>\n",
       "      <th>RegionDescription</th>\n",
       "      <th>OrderID</th>\n",
       "      <th>OrderTotal</th>\n",
       "    </tr>\n",
       "  </thead>\n",
       "  <tbody>\n",
       "    <tr>\n",
       "      <th>0</th>\n",
       "      <td>1</td>\n",
       "      <td>Eastern</td>\n",
       "      <td>10248</td>\n",
       "      <td>440.00</td>\n",
       "    </tr>\n",
       "    <tr>\n",
       "      <th>1</th>\n",
       "      <td>2</td>\n",
       "      <td>Western</td>\n",
       "      <td>10249</td>\n",
       "      <td>1863.40</td>\n",
       "    </tr>\n",
       "    <tr>\n",
       "      <th>2</th>\n",
       "      <td>1</td>\n",
       "      <td>Eastern</td>\n",
       "      <td>10250</td>\n",
       "      <td>337.40</td>\n",
       "    </tr>\n",
       "    <tr>\n",
       "      <th>3</th>\n",
       "      <td>4</td>\n",
       "      <td>Southern</td>\n",
       "      <td>10251</td>\n",
       "      <td>352.74</td>\n",
       "    </tr>\n",
       "    <tr>\n",
       "      <th>4</th>\n",
       "      <td>1</td>\n",
       "      <td>Eastern</td>\n",
       "      <td>10252</td>\n",
       "      <td>1220.10</td>\n",
       "    </tr>\n",
       "  </tbody>\n",
       "</table>\n",
       "</div>"
      ],
      "text/plain": [
       "   RegionId RegionDescription  OrderID  OrderTotal\n",
       "0         1           Eastern    10248      440.00\n",
       "1         2           Western    10249     1863.40\n",
       "2         1           Eastern    10250      337.40\n",
       "3         4          Southern    10251      352.74\n",
       "4         1           Eastern    10252     1220.10"
      ]
     },
     "execution_count": 8,
     "metadata": {},
     "output_type": "execute_result"
    }
   ],
   "source": [
    "df.head()"
   ]
  },
  {
   "cell_type": "markdown",
   "metadata": {},
   "source": [
    "## Conduct T-Tests"
   ]
  },
  {
   "cell_type": "code",
   "execution_count": 9,
   "metadata": {
    "ExecuteTime": {
     "end_time": "2021-01-14T16:34:43.892719Z",
     "start_time": "2021-01-14T16:34:43.888709Z"
    }
   },
   "outputs": [],
   "source": [
    "pop_mean = df['OrderTotal'].mean()"
   ]
  },
  {
   "cell_type": "code",
   "execution_count": 14,
   "metadata": {
    "ExecuteTime": {
     "end_time": "2021-01-14T16:37:41.497233Z",
     "start_time": "2021-01-14T16:37:41.482329Z"
    }
   },
   "outputs": [
    {
     "name": "stdout",
     "output_type": "stream",
     "text": [
      "Region 1\n",
      "Ttest_1sampResult(statistic=-0.14431850328182574, pvalue=0.8853188562574451)\n",
      "\n",
      "Region 2\n",
      "Ttest_1sampResult(statistic=-2.0234843004504097, pvalue=0.04495398800582793)\n",
      "\n",
      "Region 4\n",
      "Ttest_1sampResult(statistic=1.3401796046571586, pvalue=0.18259866089274754)\n",
      "\n",
      "Region 3\n",
      "Ttest_1sampResult(statistic=-0.017467687922363348, pvalue=0.9860873583063376)\n",
      "\n"
     ]
    }
   ],
   "source": [
    "for region in df['RegionId'].unique():\n",
    "    print(f'Region {region}')\n",
    "    print(stats.ttest_1samp(df[df['RegionId'] == region]['OrderTotal'], pop_mean))\n",
    "    print('')"
   ]
  },
  {
   "cell_type": "markdown",
   "metadata": {},
   "source": [
    "I can reject H0 for a region if the p-value is less than alpha (0.05)\n",
    "\n",
    "The only region that is significantly different is Region 2"
   ]
  },
  {
   "cell_type": "markdown",
   "metadata": {},
   "source": [
    "**Is Region 2 doing significantly better or worse?**"
   ]
  },
  {
   "cell_type": "markdown",
   "metadata": {},
   "source": [
    "* For Better I can reject H0 if p/2 < alpha and t > 0\n",
    "* For Worse I can reject H0 if p/2 < alpha and t < 0"
   ]
  },
  {
   "cell_type": "markdown",
   "metadata": {},
   "source": [
    "Region 2 is significantly worse than the population because the test-statistic is less than 0 and p/2 < alpha (~0.022 < 0.05)."
   ]
  },
  {
   "cell_type": "markdown",
   "metadata": {},
   "source": [
    "## Conclusion"
   ]
  },
  {
   "cell_type": "markdown",
   "metadata": {},
   "source": [
    "When considering Order Totals, Region 2 is underperforming. (It is doing significantly worse that the population)"
   ]
  },
  {
   "cell_type": "markdown",
   "metadata": {},
   "source": [
    "# Region 3 and Region 4 are the Best Performing Regions with Respect to Mean Order Totals, Are the doing significantly differently? "
   ]
  },
  {
   "cell_type": "markdown",
   "metadata": {},
   "source": [
    "## Hypothesis"
   ]
  },
  {
   "cell_type": "markdown",
   "metadata": {},
   "source": [
    "H0 = There is no difference between the regions Order Totals\n",
    "\n",
    "HA = There is a difference between the two regions Order Totals"
   ]
  },
  {
   "cell_type": "markdown",
   "metadata": {},
   "source": [
    "## T-Test Type"
   ]
  },
  {
   "cell_type": "markdown",
   "metadata": {},
   "source": [
    "Two Tailed - Two Sample Independent T-Test"
   ]
  },
  {
   "cell_type": "markdown",
   "metadata": {},
   "source": [
    "## Set Significance Level"
   ]
  },
  {
   "cell_type": "code",
   "execution_count": 20,
   "metadata": {
    "ExecuteTime": {
     "end_time": "2021-01-14T17:24:44.849137Z",
     "start_time": "2021-01-14T17:24:44.845966Z"
    }
   },
   "outputs": [],
   "source": [
    "alpha = 0.05"
   ]
  },
  {
   "cell_type": "markdown",
   "metadata": {},
   "source": [
    "## Perform T-Test"
   ]
  },
  {
   "cell_type": "code",
   "execution_count": 21,
   "metadata": {
    "ExecuteTime": {
     "end_time": "2021-01-14T18:17:26.482154Z",
     "start_time": "2021-01-14T18:17:26.472107Z"
    }
   },
   "outputs": [
    {
     "data": {
      "text/plain": [
       "Ttest_indResult(statistic=-1.126701299848741, pvalue=0.2610755870536371)"
      ]
     },
     "execution_count": 21,
     "metadata": {},
     "output_type": "execute_result"
    }
   ],
   "source": [
    "stats.ttest_ind(df[df['RegionId'] == 3]['OrderTotal'], \n",
    "                df[df['RegionId'] == 4]['OrderTotal'], \n",
    "                equal_var=False)"
   ]
  },
  {
   "cell_type": "markdown",
   "metadata": {},
   "source": [
    "## Conclusion"
   ]
  },
  {
   "cell_type": "markdown",
   "metadata": {},
   "source": [
    "I failed to reject H0 because p is much bigger than alpha, therefor I cannot say that regions 3 and 4 are significantly different regarding order totals."
   ]
  },
  {
   "cell_type": "code",
   "execution_count": null,
   "metadata": {},
   "outputs": [],
   "source": []
  }
 ],
 "metadata": {
  "kernelspec": {
   "display_name": "learn-env",
   "language": "python",
   "name": "learn-env"
  },
  "language_info": {
   "codemirror_mode": {
    "name": "ipython",
    "version": 3
   },
   "file_extension": ".py",
   "mimetype": "text/x-python",
   "name": "python",
   "nbconvert_exporter": "python",
   "pygments_lexer": "ipython3",
   "version": "3.6.9"
  },
  "toc": {
   "base_numbering": 1,
   "nav_menu": {},
   "number_sections": true,
   "sideBar": true,
   "skip_h1_title": false,
   "title_cell": "Table of Contents",
   "title_sidebar": "Contents",
   "toc_cell": false,
   "toc_position": {},
   "toc_section_display": true,
   "toc_window_display": false
  },
  "varInspector": {
   "cols": {
    "lenName": 16,
    "lenType": 16,
    "lenVar": 40
   },
   "kernels_config": {
    "python": {
     "delete_cmd_postfix": "",
     "delete_cmd_prefix": "del ",
     "library": "var_list.py",
     "varRefreshCmd": "print(var_dic_list())"
    },
    "r": {
     "delete_cmd_postfix": ") ",
     "delete_cmd_prefix": "rm(",
     "library": "var_list.r",
     "varRefreshCmd": "cat(var_dic_list()) "
    }
   },
   "types_to_exclude": [
    "module",
    "function",
    "builtin_function_or_method",
    "instance",
    "_Feature"
   ],
   "window_display": false
  }
 },
 "nbformat": 4,
 "nbformat_minor": 2
}
